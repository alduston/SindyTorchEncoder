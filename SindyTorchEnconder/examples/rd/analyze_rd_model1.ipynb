version https://git-lfs.github.com/spec/v1
oid sha256:dd86e49ddf5322a634f736d3e10799d57b121e53e78904a8ce411dbec2043c27
size 35059
