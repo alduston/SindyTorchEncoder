version https://git-lfs.github.com/spec/v1
oid sha256:53efe5e4b8140f27eba52071e46e8c986d642a12c718ff172768fca30a881f89
size 35548
