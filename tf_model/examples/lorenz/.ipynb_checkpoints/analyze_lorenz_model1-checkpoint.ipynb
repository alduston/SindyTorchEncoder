{
 "cells": [
  {
   "cell_type": "code",
   "execution_count": 3,
   "metadata": {},
   "outputs": [
    {
     "ename": "ModuleNotFoundError",
     "evalue": "No module named 'sindy_utils'",
     "output_type": "error",
     "traceback": [
      "\u001b[0;31m---------------------------------------------------------------------------\u001b[0m",
      "\u001b[0;31mModuleNotFoundError\u001b[0m                       Traceback (most recent call last)",
      "\u001b[0;32m/var/folders/8q/6_z6rg492b3bf268t4m1yhph0000gn/T/ipykernel_22417/1326927217.py\u001b[0m in \u001b[0;36m<module>\u001b[0;34m\u001b[0m\n\u001b[1;32m      4\u001b[0m \u001b[0;32mimport\u001b[0m \u001b[0mnumpy\u001b[0m \u001b[0;32mas\u001b[0m \u001b[0mnp\u001b[0m\u001b[0;34m\u001b[0m\u001b[0;34m\u001b[0m\u001b[0m\n\u001b[1;32m      5\u001b[0m \u001b[0;32mimport\u001b[0m \u001b[0mpickle\u001b[0m\u001b[0;34m\u001b[0m\u001b[0;34m\u001b[0m\u001b[0m\n\u001b[0;32m----> 6\u001b[0;31m \u001b[0;32mfrom\u001b[0m \u001b[0mexample_lorenz\u001b[0m \u001b[0;32mimport\u001b[0m \u001b[0mget_lorenz_data\u001b[0m\u001b[0;34m,\u001b[0m \u001b[0mgenerate_lorenz_data\u001b[0m\u001b[0;34m\u001b[0m\u001b[0;34m\u001b[0m\u001b[0m\n\u001b[0m\u001b[1;32m      7\u001b[0m \u001b[0;32mfrom\u001b[0m \u001b[0mtf_autoencoder\u001b[0m \u001b[0;32mimport\u001b[0m \u001b[0mfull_network\u001b[0m\u001b[0;34m\u001b[0m\u001b[0;34m\u001b[0m\u001b[0m\n\u001b[1;32m      8\u001b[0m \u001b[0;32mfrom\u001b[0m \u001b[0mtf_training\u001b[0m \u001b[0;32mimport\u001b[0m \u001b[0mcreate_feed_dictionary\u001b[0m\u001b[0;34m\u001b[0m\u001b[0;34m\u001b[0m\u001b[0m\n",
      "\u001b[0;32m~/Desktop/Math/Research/Kutz/SindyTorchEnconder/tf_model/examples/lorenz/example_lorenz.py\u001b[0m in \u001b[0;36m<module>\u001b[0;34m\u001b[0m\n\u001b[1;32m      4\u001b[0m \u001b[0;32mimport\u001b[0m \u001b[0msys\u001b[0m\u001b[0;34m\u001b[0m\u001b[0;34m\u001b[0m\u001b[0m\n\u001b[1;32m      5\u001b[0m \u001b[0msys\u001b[0m\u001b[0;34m.\u001b[0m\u001b[0mpath\u001b[0m\u001b[0;34m.\u001b[0m\u001b[0mappend\u001b[0m\u001b[0;34m(\u001b[0m\u001b[0;34m'../../src'\u001b[0m\u001b[0;34m)\u001b[0m\u001b[0;34m\u001b[0m\u001b[0;34m\u001b[0m\u001b[0m\n\u001b[0;32m----> 6\u001b[0;31m \u001b[0;32mfrom\u001b[0m \u001b[0msindy_utils\u001b[0m \u001b[0;32mimport\u001b[0m \u001b[0mlibrary_size\u001b[0m\u001b[0;34m\u001b[0m\u001b[0;34m\u001b[0m\u001b[0m\n\u001b[0m\u001b[1;32m      7\u001b[0m \u001b[0;34m\u001b[0m\u001b[0m\n\u001b[1;32m      8\u001b[0m \u001b[0;34m\u001b[0m\u001b[0m\n",
      "\u001b[0;31mModuleNotFoundError\u001b[0m: No module named 'sindy_utils'"
     ]
    }
   ],
   "source": [
    "import sys\n",
    "sys.path.append(\"../../src\")\n",
    "import os\n",
    "import numpy as np\n",
    "import pickle\n",
    "from example_lorenz import get_lorenz_data, generate_lorenz_data\n",
    "from tf_autoencoder import full_network\n",
    "from tf_training import create_feed_dictionary\n",
    "from sindy_utils import sindy_simulate\n",
    "import tensorflow as tf\n",
    "import matplotlib.pyplot as plt\n",
    "from mpl_toolkits.mplot3d import Axes3D\n",
    "%matplotlib inline"
   ]
  },
  {
   "cell_type": "code",
   "execution_count": null,
   "metadata": {},
   "outputs": [],
   "source": [
    "data_path = os.getcwd() + '/'\n",
    "save_name = 'model1'\n",
    "params = pickle.load(open(data_path + save_name + '_params.pkl', 'rb'))\n",
    "params['save_name'] = data_path + save_name\n",
    "\n",
    "autoencoder_network = full_network(params)\n",
    "learning_rate = tf.placeholder(tf.float32, name='learning_rate')\n",
    "saver = tf.train.Saver(var_list=tf.get_collection(tf.GraphKeys.GLOBAL_VARIABLES))\n",
    "\n",
    "tensorflow_run_tuple = ()\n",
    "for key in autoencoder_network.keys():\n",
    "    tensorflow_run_tuple += (autoencoder_network[key],)\n",
    "\n",
    "'''"
   ]
  },
  {
   "cell_type": "markdown",
   "metadata": {},
   "source": [
    "## Single trajectory plots"
   ]
  },
  {
   "cell_type": "code",
   "execution_count": null,
   "metadata": {},
   "outputs": [],
   "source": [
    "t = np.arange(0,20,.01)\n",
    "z0 = np.array([[-8,7,27]])\n",
    "\n",
    "test_data = generate_lorenz_data(z0, t, params['input_dim'], linear=False, normalization=np.array([1/40,1/40,1/40]))\n",
    "test_data['x'] = test_data['x'].reshape((-1,params['input_dim']))\n",
    "test_data['dx'] = test_data['dx'].reshape((-1,params['input_dim']))\n",
    "test_data['z'] = test_data['z'].reshape((-1,params['latent_dim']))\n",
    "test_data['dz'] = test_data['dz'].reshape((-1,params['latent_dim']))"
   ]
  },
  {
   "cell_type": "code",
   "execution_count": null,
   "metadata": {},
   "outputs": [],
   "source": [
    "with tf.Session() as sess:\n",
    "    sess.run(tf.global_variables_initializer())\n",
    "    saver.restore(sess, data_path + save_name)\n",
    "    test_dictionary = create_feed_dictionary(test_data, params)\n",
    "    tf_results = sess.run(tensorflow_run_tuple, feed_dict=test_dictionary)\n",
    "\n",
    "test_set_results = {}\n",
    "for i,key in enumerate(autoencoder_network.keys()):\n",
    "    test_set_results[key] = tf_results[i]"
   ]
  },
  {
   "cell_type": "code",
   "execution_count": null,
   "metadata": {},
   "outputs": [],
   "source": [
    "a1 = 1\n",
    "a2 = test_data['sindy_coefficients'][2,0]/test_set_results['sindy_coefficients'][2,0]\n",
    "a3 = np.sqrt(-test_set_results['sindy_coefficients'][5,2]/test_set_results['sindy_coefficients'][6,1]*a2**2)\n",
    "b3 = -test_set_results['sindy_coefficients'][0,2]/test_set_results['sindy_coefficients'][3,2]\n",
    "\n",
    "sindy_coefficients_transformed = np.zeros(test_set_results['sindy_coefficients'].shape)\n",
    "sindy_coefficients_transformed[1,0] = test_set_results['sindy_coefficients'][1,0]\n",
    "sindy_coefficients_transformed[2,0] = test_set_results['sindy_coefficients'][2,0]*a2/a1\n",
    "sindy_coefficients_transformed[1,1] = test_set_results['sindy_coefficients'][6,1]*a1/a2*b3\n",
    "sindy_coefficients_transformed[2,1] = test_set_results['sindy_coefficients'][2,1]\n",
    "sindy_coefficients_transformed[6,1] = test_set_results['sindy_coefficients'][6,1]*a1*a3/a2\n",
    "sindy_coefficients_transformed[3,2] = test_set_results['sindy_coefficients'][3,2]\n",
    "sindy_coefficients_transformed[5,2] = test_set_results['sindy_coefficients'][5,2]*a1*a2/a3\n",
    "\n",
    "z0_transformed = np.array([test_set_results['z'][0,0]/a1,\n",
    "                           test_set_results['z'][0,1]/a2,\n",
    "                           (test_set_results['z'][0,2] - b3)/a3])"
   ]
  },
  {
   "cell_type": "code",
   "execution_count": null,
   "metadata": {},
   "outputs": [],
   "source": [
    "lorenz_sim = sindy_simulate(test_data['z'][0], t, test_data['sindy_coefficients'],\n",
    "                            params['poly_order'], params['include_sine'])\n",
    "z_sim = sindy_simulate(test_set_results['z'][0], t, params['coefficient_mask']*test_set_results['sindy_coefficients'],\n",
    "                       params['poly_order'], params['include_sine'])\n",
    "z_sim_transformed = sindy_simulate(z0_transformed, t, sindy_coefficients_transformed,\n",
    "                                   params['poly_order'], params['include_sine'])"
   ]
  },
  {
   "cell_type": "code",
   "execution_count": null,
   "metadata": {},
   "outputs": [],
   "source": [
    "fig1 = plt.figure(figsize=(3,3))\n",
    "ax1 = fig1.add_subplot(111, projection='3d')\n",
    "ax1.plot(z_sim[:,0], z_sim[:,1], z_sim[:,2], linewidth=2)\n",
    "plt.axis('off')\n",
    "ax1.view_init(azim=120)\n",
    "\n",
    "fig2 = plt.figure(figsize=(3,3))\n",
    "ax2 = fig2.add_subplot(111, projection='3d')\n",
    "ax2.plot(z_sim_transformed[:,0], z_sim_transformed[:,1], z_sim_transformed[:,2], linewidth=2)\n",
    "plt.axis('off')\n",
    "ax2.view_init(azim=120)\n",
    "\n",
    "fig3 = plt.figure(figsize=(3,3))\n",
    "ax3 = fig3.add_subplot(111, projection='3d')\n",
    "ax3.plot(lorenz_sim[:,0], lorenz_sim[:,1], lorenz_sim[:,2], linewidth=2)\n",
    "plt.xticks([])\n",
    "plt.axis('off')\n",
    "ax3.view_init(azim=120)"
   ]
  },
  {
   "cell_type": "code",
   "execution_count": null,
   "metadata": {},
   "outputs": [],
   "source": [
    "plt.figure(figsize=(3,3))\n",
    "for i in range(3):\n",
    "    plt.subplot(3,1,i+1)\n",
    "    plt.plot(t, test_set_results['z'][:,i], color='#888888', linewidth=2)\n",
    "    plt.plot(t, z_sim[:,i], '--', linewidth=2)\n",
    "    plt.xticks([])\n",
    "    plt.yticks([])\n",
    "    plt.axis('off')"
   ]
  },
  {
   "cell_type": "code",
   "execution_count": null,
   "metadata": {},
   "outputs": [],
   "source": [
    "Xi_plot = (params['coefficient_mask']*test_set_results['sindy_coefficients'])\n",
    "Xi_plot[Xi_plot==0] = np.inf\n",
    "plt.figure(figsize=(1,2))\n",
    "plt.imshow(Xi_plot, interpolation='none')\n",
    "plt.xticks([])\n",
    "plt.yticks([])\n",
    "plt.axis('off')\n",
    "plt.clim([-10,30])\n",
    "\n",
    "Xi_transformed_plot = np.copy(sindy_coefficients_transformed)\n",
    "Xi_transformed_plot[Xi_transformed_plot==0] = np.inf\n",
    "plt.figure(figsize=(1,2))\n",
    "plt.imshow(Xi_transformed_plot, interpolation='none')\n",
    "plt.xticks([])\n",
    "plt.yticks([])\n",
    "plt.axis('off')\n",
    "plt.clim([-10,30])\n",
    "\n",
    "Xi_true_plot = np.copy(test_data['sindy_coefficients'])\n",
    "Xi_true_plot[Xi_true_plot==0] = np.inf\n",
    "Xi_true_plot[6,1] = -1.\n",
    "Xi_true_plot[5,2] = 1.\n",
    "plt.figure(figsize=(1,2))\n",
    "plt.imshow(Xi_true_plot, interpolation='none')\n",
    "plt.xticks([])\n",
    "plt.yticks([])\n",
    "plt.axis('off')\n",
    "plt.clim([-10,30])"
   ]
  },
  {
   "cell_type": "markdown",
   "metadata": {},
   "source": [
    "## Test set analysis - in distribution"
   ]
  },
  {
   "cell_type": "code",
   "execution_count": null,
   "metadata": {},
   "outputs": [],
   "source": [
    "test_data = get_lorenz_data(100, noise_strength=1e-6)"
   ]
  },
  {
   "cell_type": "code",
   "execution_count": null,
   "metadata": {},
   "outputs": [],
   "source": [
    "with tf.Session() as sess:\n",
    "    sess.run(tf.global_variables_initializer())\n",
    "    saver.restore(sess, data_path + save_name)\n",
    "    test_dictionary = create_feed_dictionary(test_data, params)\n",
    "    tf_results = sess.run(tensorflow_run_tuple, feed_dict=test_dictionary)\n",
    "\n",
    "test_set_results = {}\n",
    "for i,key in enumerate(autoencoder_network.keys()):\n",
    "    test_set_results[key] = tf_results[i]"
   ]
  },
  {
   "cell_type": "code",
   "execution_count": null,
   "metadata": {},
   "outputs": [],
   "source": [
    "decoder_x_error = np.mean((test_data['x'] - test_set_results['x_decode'])**2)/np.mean(test_data['x']**2)\n",
    "decoder_dx_error = np.mean((test_data['dx'] - test_set_results['dx_decode'])**2)/np.mean(test_data['dx']**2)\n",
    "sindy_dz_error = np.mean((test_set_results['dz'] - test_set_results['dz_predict'])**2)/np.mean(test_set_results['dz']**2)\n",
    "\n",
    "print('Decoder relative error: %f' % decoder_x_error)\n",
    "print('Decoder relative SINDy error: %f' % decoder_dx_error)\n",
    "print('SINDy reltive error, z: %f' % sindy_dz_error)"
   ]
  },
  {
   "cell_type": "code",
   "execution_count": null,
   "metadata": {},
   "outputs": [],
   "source": [
    "for ic in range(9):\n",
    "    idxs = np.arange(ic*250,(ic+1)*250)\n",
    "    \n",
    "    z_sim = sindy_simulate(test_set_results['z'][250*ic], test_data['t'],\n",
    "                           params['coefficient_mask']*test_set_results['sindy_coefficients'],\n",
    "                           params['poly_order'], params['include_sine'])\n",
    "    \n",
    "    col_idx = ic % 3\n",
    "    \n",
    "    if ic % 3 == 0:\n",
    "        plt.figure(figsize=(11,3))\n",
    "    for i in range(3):\n",
    "        row_idx = i\n",
    "        subplot_idx = 3*row_idx + col_idx + 1\n",
    "        plt.subplot(3,3,subplot_idx)\n",
    "        plt.plot(test_data['t'], test_set_results['z'][idxs,i], color='#888888', linewidth=2)\n",
    "        plt.plot(test_data['t'], z_sim[:,i], '--', linewidth=2)\n",
    "        plt.xticks([])\n",
    "        plt.yticks([])\n",
    "#         plt.ylim(ylims[i])\n",
    "        plt.axis('off')"
   ]
  },
  {
   "cell_type": "markdown",
   "metadata": {},
   "source": [
    "## Test set analysis - out of distribution"
   ]
  },
  {
   "cell_type": "code",
   "execution_count": null,
   "metadata": {},
   "outputs": [],
   "source": [
    "inDist_ic_widths = np.array([36,48,41])\n",
    "outDist_extra_width = np.array([18,24,20])\n",
    "full_width = inDist_ic_widths + outDist_extra_width\n",
    "\n",
    "t = np.arange(0, 5, .02)\n",
    "n_ics = 100\n",
    "\n",
    "i = 0\n",
    "ics = np.zeros((n_ics,3))\n",
    "while i < n_ics:\n",
    "    \n",
    "    ic = np.array([np.random.uniform(-full_width[0],full_width[0]),\n",
    "                   np.random.uniform(-full_width[1],full_width[1]),\n",
    "                   np.random.uniform(-full_width[2],full_width[2]) + 25])\n",
    "    if ((ic[0] > -inDist_ic_widths[0]) and (ic[0] < inDist_ic_widths[0])) \\\n",
    "        and ((ic[1] > -inDist_ic_widths[1]) and (ic[1] < inDist_ic_widths[1])) \\\n",
    "        and ((ic[2] > 25-inDist_ic_widths[2]) and (ic[2] < 25+inDist_ic_widths[2])):\n",
    "        continue\n",
    "    else:\n",
    "        ics[i] = ic\n",
    "        i += 1\n",
    "        \n",
    "noise_strength = 1e-6\n",
    "\n",
    "# training test_data\n",
    "test_data = generate_lorenz_data(ics, t, params['input_dim'], linear=False, normalization=np.array([1/40,1/40,1/40]))\n",
    "test_data['x'] = test_data['x'].reshape((-1,params['input_dim']))\n",
    "test_data['x'] += noise_strength*np.random.normal(size=test_data['x'].shape)\n",
    "test_data['dx'] = test_data['dx'].reshape((-1,params['input_dim']))\n",
    "test_data['dx'] += noise_strength*np.random.normal(size=test_data['dx'].shape)"
   ]
  },
  {
   "cell_type": "code",
   "execution_count": null,
   "metadata": {},
   "outputs": [],
   "source": [
    "with tf.Session() as sess:\n",
    "    sess.run(tf.global_variables_initializer())\n",
    "    saver.restore(sess, data_path + save_name)\n",
    "    test_dictionary = create_feed_dictionary(test_data, params)\n",
    "    tf_results = sess.run(tensorflow_run_tuple, feed_dict=test_dictionary)\n",
    "\n",
    "test_set_results = {}\n",
    "for i,key in enumerate(autoencoder_network.keys()):\n",
    "    test_set_results[key] = tf_results[i]"
   ]
  },
  {
   "cell_type": "code",
   "execution_count": null,
   "metadata": {},
   "outputs": [],
   "source": [
    "decoder_x_error = np.mean((test_data['x'] - test_set_results['x_decode'])**2)/np.mean(test_data['x']**2)\n",
    "decoder_dx_error = np.mean((test_data['dx'] - test_set_results['dx_decode'])**2)/np.mean(test_data['dx']**2)\n",
    "sindy_dz_error = np.mean((test_set_results['dz'] - test_set_results['dz_predict'])**2)/np.mean(test_set_results['dz']**2)\n",
    "\n",
    "print('Decoder relative error: %f' % decoder_x_error)\n",
    "print('Decoder relative SINDy error: %f' % decoder_dx_error)\n",
    "print('SINDy reltive error, z: %f' % sindy_dz_error)"
   ]
  },
  {
   "cell_type": "code",
   "execution_count": null,
   "metadata": {},
   "outputs": [],
   "source": [
    "for ic in range(9):\n",
    "    idxs = np.arange(ic*250,(ic+1)*250)\n",
    "    \n",
    "    z_sim = sindy_simulate(test_set_results['z'][250*ic], test_data['t'],\n",
    "                           params['coefficient_mask']*test_set_results['sindy_coefficients'],\n",
    "                           params['poly_order'], params['include_sine'])\n",
    "    \n",
    "    col_idx = ic % 3\n",
    "    \n",
    "    if ic % 3 == 0:\n",
    "        plt.figure(figsize=(11,3))\n",
    "    for i in range(3):\n",
    "        row_idx = i\n",
    "        subplot_idx = 3*row_idx + col_idx + 1\n",
    "        plt.subplot(3,3,subplot_idx)\n",
    "        plt.plot(test_data['t'], test_set_results['z'][idxs,i], color='#888888', linewidth=2)\n",
    "        plt.plot(test_data['t'], z_sim[:,i], '--', linewidth=2)\n",
    "        plt.xticks([])\n",
    "        plt.yticks([])\n",
    "#         plt.ylim(ylims[i])\n",
    "        plt.axis('off')"
   ]
  },
  {
   "cell_type": "code",
   "execution_count": null,
   "metadata": {},
   "outputs": [],
   "source": [
    "'''\n"
   ]
  }
 ],
 "metadata": {
  "kernelspec": {
   "display_name": "Python 3 (ipykernel)",
   "language": "python",
   "name": "python3"
  },
  "language_info": {
   "codemirror_mode": {
    "name": "ipython",
    "version": 3
   },
   "file_extension": ".py",
   "mimetype": "text/x-python",
   "name": "python",
   "nbconvert_exporter": "python",
   "pygments_lexer": "ipython3",
   "version": "3.7.6"
  },
  "toc": {
   "base_numbering": 1,
   "nav_menu": {},
   "number_sections": true,
   "sideBar": true,
   "skip_h1_title": false,
   "title_cell": "Table of Contents",
   "title_sidebar": "Contents",
   "toc_cell": false,
   "toc_position": {},
   "toc_section_display": true,
   "toc_window_display": false
  },
  "varInspector": {
   "cols": {
    "lenName": 16,
    "lenType": 16,
    "lenVar": 40
   },
   "kernels_config": {
    "python": {
     "delete_cmd_postfix": "",
     "delete_cmd_prefix": "del ",
     "library": "var_list.py",
     "varRefreshCmd": "print(var_dic_list())"
    },
    "r": {
     "delete_cmd_postfix": ") ",
     "delete_cmd_prefix": "rm(",
     "library": "var_list.r",
     "varRefreshCmd": "cat(var_dic_list()) "
    }
   },
   "types_to_exclude": [
    "module",
    "function",
    "builtin_function_or_method",
    "instance",
    "_Feature"
   ],
   "window_display": false
  }
 },
 "nbformat": 4,
 "nbformat_minor": 2
}
